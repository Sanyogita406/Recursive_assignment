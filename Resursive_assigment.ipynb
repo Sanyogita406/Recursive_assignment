{
  "nbformat": 4,
  "nbformat_minor": 0,
  "metadata": {
    "colab": {
      "provenance": []
    },
    "kernelspec": {
      "name": "python3",
      "display_name": "Python 3"
    },
    "language_info": {
      "name": "python"
    }
  },
  "cells": [
    {
      "cell_type": "code",
      "execution_count": 2,
      "metadata": {
        "id": "tgG05I6exjXV",
        "colab": {
          "base_uri": "https://localhost:8080/"
        },
        "outputId": "c257f86d-cd0b-432e-b2f1-5f9772a1e59f"
      },
      "outputs": [
        {
          "output_type": "stream",
          "name": "stdout",
          "text": [
            "1\n",
            "3\n",
            "7\n",
            "15\n"
          ]
        }
      ],
      "source": [
        "#Ques1. Can you explain the logic and working of the Tower of Hanoi algorithms by writing a program? How does the recursive work, and how are the movements of disks between rods accomplished?\n",
        "\n",
        "def moves(n, s, d, a):\n",
        "  if n == 1:\n",
        "    return 1\n",
        "  return moves(n-1, a, s, d) + 1 + moves(n-1, a, d, s)\n",
        "print(moves(1,'s', 'd', 'a'))\n",
        "print(moves(2, 's', 'd', 'a'))\n",
        "print(moves(3, 's', 'd', 'a'))\n",
        "print(moves(4, 's', 'd', 'a'))"
      ]
    },
    {
      "cell_type": "code",
      "source": [
        "#Ques2. Given two sorting word1 and word2, return the minimum number of operations required to convert word1 to word2.\n",
        "\n",
        "def minDistance(word1, word2):\n",
        "    m, n = len(word1), len(word2)\n",
        "    dp = [[0] * (n + 1) for _ in range(m + 1)]\n",
        "\n",
        "    for i in range(m + 1):\n",
        "        dp[i][0] = i\n",
        "    for j in range(n + 1):\n",
        "        dp[0][j] = j\n",
        "\n",
        "    for i in range(1, m + 1):\n",
        "        for j in range(1, n + 1):\n",
        "            if word1[i - 1] == word2[j - 1]:\n",
        "                dp[i][j] = dp[i - 1][j - 1]\n",
        "            else:\n",
        "                dp[i][j] = 1 + min(dp[i - 1][j], dp[i][j - 1], dp[i - 1][j - 1])\n",
        "\n",
        "    return dp[m][n]\n",
        "\n",
        "word1 = \"Horse\"\n",
        "word2 = \"ros\"\n",
        "print(minDistance(word1, word2))"
      ],
      "metadata": {
        "colab": {
          "base_uri": "https://localhost:8080/"
        },
        "id": "7c_9MXLUy8W1",
        "outputId": "eb0e7987-d4cf-4c45-c55f-458ae75d3039"
      },
      "execution_count": null,
      "outputs": [
        {
          "output_type": "stream",
          "name": "stdout",
          "text": [
            "3\n"
          ]
        }
      ]
    },
    {
      "cell_type": "code",
      "source": [
        "#Ques3. Print the max value of the array [13,1,-3, 22, 5]\n",
        "\n",
        "array = [13, 1, -3, 22, 5]\n",
        "max_value = max(array)\n",
        "print(\"The maximum value in the array is:\", max_value)"
      ],
      "metadata": {
        "colab": {
          "base_uri": "https://localhost:8080/"
        },
        "id": "fpLK40BSzRvW",
        "outputId": "c4342f66-6684-48d9-f907-6f89b549a1ac"
      },
      "execution_count": null,
      "outputs": [
        {
          "output_type": "stream",
          "name": "stdout",
          "text": [
            "The maximum value in the array is: 22\n"
          ]
        }
      ]
    },
    {
      "cell_type": "code",
      "source": [
        "#Ques4. Find the sum of the values of the array [92, 23, 15, -20, 10]\n",
        "\n",
        "array = [92, 23, 15, -20, 10]\n",
        "sum_of_array = sum(array)\n",
        "print(\"The sum of the array is:\", sum_of_array)"
      ],
      "metadata": {
        "colab": {
          "base_uri": "https://localhost:8080/"
        },
        "id": "8cKRodXwzc25",
        "outputId": "a73c7eed-ee63-49f7-abbd-64ffb484b783"
      },
      "execution_count": null,
      "outputs": [
        {
          "output_type": "stream",
          "name": "stdout",
          "text": [
            "The sum of the array is: 120\n"
          ]
        }
      ]
    },
    {
      "cell_type": "code",
      "source": [
        "#Ques5. Given a number n. Print if it is an armstrong number or not. An armstrong number is a number if the sum of every digit in that number raised to the power of total digits in that number is equal to the number.\n",
        "\n",
        "def is_armstrong_number(n):\n",
        "    num_str = str(n)\n",
        "    num_digits = len(num_str)\n",
        "    armstrong_sum = sum(int(digit)**num_digits for digit in num_str)\n",
        "    return armstrong_sum == n\n",
        "\n",
        "n = 153\n",
        "if is_armstrong_number(n):\n",
        "    print(\"Output: Yes\")\n",
        "else:\n",
        "    print(\"Output: No\")"
      ],
      "metadata": {
        "colab": {
          "base_uri": "https://localhost:8080/"
        },
        "id": "c0ljInuRz5Tw",
        "outputId": "bd651d63-d028-4c97-fda6-e71bd5ec4252"
      },
      "execution_count": null,
      "outputs": [
        {
          "output_type": "stream",
          "name": "stdout",
          "text": [
            "Output: Yes\n"
          ]
        }
      ]
    }
  ]
}